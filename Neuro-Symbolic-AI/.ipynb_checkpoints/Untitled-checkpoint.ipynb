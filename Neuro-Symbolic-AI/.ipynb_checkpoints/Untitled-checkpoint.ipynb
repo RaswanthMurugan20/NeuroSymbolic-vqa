{
 "cells": [
  {
   "cell_type": "code",
   "execution_count": 2,
   "metadata": {},
   "outputs": [],
   "source": [
    "import tensorflow as tf"
   ]
  },
  {
   "cell_type": "code",
   "execution_count": 8,
   "metadata": {},
   "outputs": [
    {
     "name": "stdout",
     "output_type": "stream",
     "text": [
      "Model: \"sequential_1\"\n",
      "_________________________________________________________________\n",
      "Layer (type)                 Output Shape              Param #   \n",
      "=================================================================\n",
      "dense_1 (Dense)              (None, 20, 20, 10)        310       \n",
      "_________________________________________________________________\n",
      "dropout_1 (Dropout)          (None, 20, 20, 10)        0         \n",
      "=================================================================\n",
      "Total params: 310\n",
      "Trainable params: 310\n",
      "Non-trainable params: 0\n",
      "_________________________________________________________________\n"
     ]
    }
   ],
   "source": [
    "def make_model():\n",
    "    model = tf.keras.Sequential([tf.keras.layers.Dense(10,activation = 'relu',input_shape =(20,20,30)),tf.keras.layers.Dropout(0.2)])\n",
    "    model.compile(optimizer='Adam',loss= tf.losses.CategoricalCrossentropy(from_logits = True), \n",
    "                  metrics=['accuracy'])\n",
    "    return model\n",
    "\n",
    "model = make_model()\n",
    "\n",
    "model.summary()\n",
    "\n",
    "model.save('/home/raswanth/temp_file/my_model.h5')\n",
    "    "
   ]
  },
  {
   "cell_type": "code",
   "execution_count": 9,
   "metadata": {},
   "outputs": [
    {
     "name": "stdout",
     "output_type": "stream",
     "text": [
      "Model: \"sequential_1\"\n",
      "_________________________________________________________________\n",
      "Layer (type)                 Output Shape              Param #   \n",
      "=================================================================\n",
      "dense_1 (Dense)              (None, 20, 20, 10)        310       \n",
      "_________________________________________________________________\n",
      "dropout_1 (Dropout)          (None, 20, 20, 10)        0         \n",
      "=================================================================\n",
      "Total params: 310\n",
      "Trainable params: 310\n",
      "Non-trainable params: 0\n",
      "_________________________________________________________________\n"
     ]
    }
   ],
   "source": [
    "moel =  tf.keras.models.load_model('/home/raswanth/temp_file/my_model.h5')\n",
    "moel.save"
   ]
  },
  {
   "cell_type": "code",
   "execution_count": null,
   "metadata": {},
   "outputs": [],
   "source": []
  }
 ],
 "metadata": {
  "kernelspec": {
   "display_name": "Python 3",
   "language": "python",
   "name": "python3"
  },
  "language_info": {
   "codemirror_mode": {
    "name": "ipython",
    "version": 3
   },
   "file_extension": ".py",
   "mimetype": "text/x-python",
   "name": "python",
   "nbconvert_exporter": "python",
   "pygments_lexer": "ipython3",
   "version": "3.7.7"
  }
 },
 "nbformat": 4,
 "nbformat_minor": 4
}
